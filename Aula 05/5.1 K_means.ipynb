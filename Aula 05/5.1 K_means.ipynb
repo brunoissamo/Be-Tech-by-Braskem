{
 "cells": [
  {
   "cell_type": "markdown",
   "metadata": {},
   "source": [
    "# Aula 5 - K-means\n",
    "### Relembrando Aprendizado Não-Supervisionado\n",
    "\n",
    " Aprendizado Supervisionado: Classificação / Regressão\n",
    " Premissa: Eu já conheço de antemão as classes\n",
    "\n",
    " Aprendizado Não Supervisionado: \n",
    " Premissa: Eu não conheço de antemão as classes ou targets\n",
    " Os métodos de aprendizado não supervisionado vão nos ajudar a \n",
    " descobrir padrões inerentes aos dados que não conhecemos de\n",
    " antemão"
   ]
  },
  {
   "cell_type": "markdown",
   "metadata": {},
   "source": [
    "### Passo a passo\n",
    "\n",
    " O algoritmo do K-Means se utiliza de similaridades para conseguir agrupar os dados, seu funcionamento segue os seguintes passos:\n",
    "  1) definir o número de grupos (clusters) que eu espero encontrar nos meus dados - Valor de **K**\n",
    "  2) gerar **K** pontos aleatórios que representam os centróides de cada grupo\n",
    "  3) atribuir um grupo para cada observação baseado na distância do centroid \n",
    "  4) atualizar os centroides dos clusters sendo o ponto médio  \n",
    "Repete-se os itens 3 e 4 até:      \n",
    "    - número máximo de iterações  \n",
    "    - estabelecer uma tolerância sendo que: caso a variação dos centroides seja pequena o suficiente, entendemos que houve uma convergência"
   ]
  },
  {
   "cell_type": "markdown",
   "metadata": {},
   "source": [
    "## Na prática"
   ]
  },
  {
   "cell_type": "code",
   "execution_count": null,
   "metadata": {},
   "outputs": [],
   "source": []
  },
  {
   "cell_type": "markdown",
   "metadata": {},
   "source": [
    "Para ilustrar o K-means vamos criar uma amostra de dados aleatórios"
   ]
  },
  {
   "cell_type": "code",
   "execution_count": null,
   "metadata": {},
   "outputs": [],
   "source": []
  },
  {
   "cell_type": "code",
   "execution_count": null,
   "metadata": {},
   "outputs": [],
   "source": []
  },
  {
   "cell_type": "code",
   "execution_count": null,
   "metadata": {},
   "outputs": [],
   "source": []
  },
  {
   "cell_type": "code",
   "execution_count": null,
   "metadata": {},
   "outputs": [],
   "source": []
  },
  {
   "cell_type": "code",
   "execution_count": null,
   "metadata": {},
   "outputs": [],
   "source": []
  },
  {
   "cell_type": "code",
   "execution_count": null,
   "metadata": {},
   "outputs": [],
   "source": []
  },
  {
   "cell_type": "markdown",
   "metadata": {},
   "source": [
    "A classe do sklearn que possui o K-means é o cluster, cujo pacote é:\n",
    "\n",
    "- [K-means](https://scikit-learn.org/stable/modules/generated/sklearn.cluster.KMeans.html)\n",
    "\n",
    "E os principais hiperparâmetros a serem ajustados são:\n",
    "\n",
    "- `n_clusters` : número de clusters que o algoritmo usará para agrupar nossos dados\n",
    "\n",
    "- `max_iter` : critério de parada com máximo de iterações para o algoritmo realizar até que se definam os clusters"
   ]
  },
  {
   "cell_type": "markdown",
   "metadata": {},
   "source": [
    "<img src=\"https://cdn.sanity.io/images/kuana2sp/production/756bc08204c16857f543d86af5e24942b00f05b5-1024x576.gif?w=1080&fit=max&auto=format\">"
   ]
  }
 ],
 "metadata": {
  "kernelspec": {
   "display_name": "base",
   "language": "python",
   "name": "python3"
  },
  "language_info": {
   "codemirror_mode": {
    "name": "ipython",
    "version": 3
   },
   "file_extension": ".py",
   "mimetype": "text/x-python",
   "name": "python",
   "nbconvert_exporter": "python",
   "pygments_lexer": "ipython3",
   "version": "3.10.9"
  },
  "orig_nbformat": 4
 },
 "nbformat": 4,
 "nbformat_minor": 2
}
