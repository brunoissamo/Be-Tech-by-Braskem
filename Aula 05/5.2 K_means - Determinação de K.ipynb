{
 "cells": [
  {
   "cell_type": "markdown",
   "metadata": {},
   "source": [
    "# Aula 5 - K-means - Determinação de K\n",
    "## Relembrando o k-means"
   ]
  },
  {
   "cell_type": "markdown",
   "metadata": {},
   "source": [
    "### Passo a passo\n",
    "\n",
    " O algoritmo do K-Means se utiliza de similaridades para conseguir agrupar os dados, seu funcionamento segue os seguintes passos:\n",
    "  1) definir o número de grupos (clusters) que eu espero encontrar nos meus dados - Valor de **K**\n",
    "  2) gerar **K** pontos aleatórios que representam os centróides de cada grupo\n",
    "  3) atribuir um grupo para cada observação baseado na distância do centroid \n",
    "  4) atualizar os centroides dos clusters sendo o ponto médio  \n",
    "Repete-se os itens 3 e 4 até:      \n",
    "    - número máximo de iterações  \n",
    "    - estabelecer uma tolerância sendo que: caso a variação dos centroides seja pequena o suficiente, entendemos que houve uma convergência"
   ]
  },
  {
   "cell_type": "markdown",
   "metadata": {},
   "source": [
    "Mas como saber qual a quantidade ideal de grupos para realizar a clusterização?"
   ]
  },
  {
   "cell_type": "markdown",
   "metadata": {},
   "source": [
    "## Método do cotovelo (Elbow method)\n",
    "\n",
    "O método do cotovelo é a forma, a partir de uma representação gráfica, de identificar o valor ótimo de **K** no K-means. É tipicamente feito escolhendo um valor de K em que o \"cotovelo\" é criado.\n",
    "\n",
    "> O método do cotovelo é uma forma gráfica de encontrar o valor ideal de **K** em um algoritmo de agrupamento k-means. O gráfico mostra os valores das somas dos quadrados das distâncias intra-clusters (WCSS) no eixo y correspondentes aos diferentes valores de K no eixo x. O valor de **K** ideal é o ponto do gráfico emq ue forma o \"cotovelo\".\n",
    "\n",
    "### Na prática\n",
    "\n",
    "O KMeans do scikit-learn já calcula o wcss pra gente e dá o nome de `inertia`. Existem dois pontos negativos que precisamos levar em consideração quanto a inércia:\n",
    "\n",
    "1) A inércia é uma métrica que assume que seus clusters são convexos e isotrópicos, ou seja, se seus clusters são alongados ou de formato irregular essa é uma métrica ruim;\n",
    "2) A inércia não é uma métrica normalizada, então se você tiver um espaço com muitas dimensões você provavelmente vai dar de cara com a “maldição da dimensionalidade” já que as distâncias ficam infladas em espaços com muitas dimensões."
   ]
  },
  {
   "cell_type": "code",
   "execution_count": null,
   "metadata": {},
   "outputs": [],
   "source": [
    "import pandas as pd\n",
    "import numpy as np \n",
    "\n",
    "import matplotlib.pyplot as plt\n",
    "import seaborn as sns\n",
    "\n",
    "from sklearn.cluster import KMeans"
   ]
  },
  {
   "cell_type": "code",
   "execution_count": null,
   "metadata": {},
   "outputs": [],
   "source": [
    "# geracao dos dados\n",
    "from sklearn.datasets import make_blobs\n",
    "\n",
    "X, _ = make_blobs(n_samples=300, n_features=2, centers=4, cluster_std=0.60, random_state=0)\n",
    "df = pd.DataFrame(X, columns = ['x1', 'x2'])\n",
    "plt.scatter(X[:,0], X[:,1])\n",
    "\n",
    "plt.show()"
   ]
  },
  {
   "cell_type": "code",
   "execution_count": null,
   "metadata": {},
   "outputs": [],
   "source": []
  },
  {
   "cell_type": "markdown",
   "metadata": {},
   "source": [
    "Vamos criar uma função para calcular o WCSS"
   ]
  },
  {
   "cell_type": "code",
   "execution_count": null,
   "metadata": {},
   "outputs": [],
   "source": [
    "def calc_inercias(X, lista_k, plot=True):\n",
    "\n",
    "    lista_wcss = []\n",
    "\n",
    "    for k in lista_k:\n",
    "        # Treina o k-means para cada valor de K\n",
    "        kmeans = KMeans(n_clusters=k).fit(X)\n",
    "        labels_clusters = kmeans.labels_\n",
    "\n",
    "        # ========================================\n",
    "        # Cria lista com as inércias\n",
    "        lista_wcss.append(kmeans.inertia_)\n",
    "            \n",
    "    return lista_wcss"
   ]
  },
  {
   "cell_type": "markdown",
   "metadata": {},
   "source": [
    "e também uma função para criar o gráfico"
   ]
  },
  {
   "cell_type": "code",
   "execution_count": null,
   "metadata": {},
   "outputs": [],
   "source": [
    "def plot_cotovelo(lista_k, lista_wcss):\n",
    "    plt.figure(figsize=(8, 5))\n",
    "\n",
    "    plt.title(\"Método do cotovelo\")\n",
    "\n",
    "    plt.plot(lista_k, lista_wcss, marker=\"o\")\n",
    "\n",
    "    plt.xlabel(\"k (# de clusters)\")\n",
    "    plt.ylabel(\"Inercia (WCSS)\")\n",
    "\n",
    "    plt.show()"
   ]
  },
  {
   "cell_type": "markdown",
   "metadata": {},
   "source": [
    "aplicando as funções"
   ]
  },
  {
   "cell_type": "code",
   "execution_count": null,
   "metadata": {},
   "outputs": [],
   "source": []
  },
  {
   "cell_type": "markdown",
   "metadata": {},
   "source": [
    "## Coeficiente da Silhueta\n",
    "Outro método existente para determinalção do valor ideal de K é o chamado **coeficiente da silhueta** que pode ser visto [neste link!](https://scikit-learn.org/stable/auto_examples/cluster/plot_kmeans_silhouette_analysis.html) e é demonstrado nas figuras abaixo. \n",
    "  \n",
    "Basicamente o coeficiente é resultante de um cálculo da distância entre os centróides, levando em consideração o agrupamento dos dados que os cerca. Após o cálculo, é gerado um gráfico em barras horizontais que mostra em cada cluster o valor do coeficiente dos dados mais próximos aos mais distantes, formando assim uma “silhueta”. O coeficiente é gerado entre o intervalo de -1 a +1, onde quanto mais próximo a “+1” representa maior distância entre os clusters; quando for “0” significa que estão muito próximos do ponto de decisão entre os clusters (ou seja, está na dúvida a qual pertence); e quando os valores forem negativos isso significa que possivelmente os dados estão no cluster errado. Também deve ser levado em consideração na análise o valor médio do coeficiente, sendo que, no cenário ideal, o coeficiente de silhueta de cada cluster deve ser maior que o valor médio do mesmo e as espessuras de cada um no gráfico devem ser semelhantes entre si."
   ]
  },
  {
   "cell_type": "markdown",
   "metadata": {},
   "source": [
    "<img src='https://miro.medium.com/v2/resize:fit:828/format:webp/1*SqMaMMzbiS9h4Jj_47akug.png'>\n",
    "\n",
    "<img src = 'https://miro.medium.com/v2/resize:fit:828/format:webp/1*vzNSANw8qh-2GG9INGzGLQ.png'>\n",
    "\n",
    "<img src = 'https://miro.medium.com/v2/resize:fit:828/format:webp/1*tzeZg6vMMTNpevs4Wdfo-A.png'>\n",
    "\n",
    "<img src = 'https://miro.medium.com/v2/resize:fit:828/format:webp/1*tzeZg6vMMTNpevs4Wdfo-A.png'>\n",
    "\n",
    "<img src = 'https://miro.medium.com/v2/resize:fit:828/format:webp/1*Eg3O6kcJiF7vAWY9RieLfw.png'>"
   ]
  },
  {
   "cell_type": "markdown",
   "metadata": {},
   "source": [
    "## Mini tarefa\n",
    "\n",
    "Usando o famoso dataset iris sem a variável target, que se encontra na pasta datasets com nome `iris_unsupervised.csv`, treine um modelo Kmeans com 3 clusters, máximo de iteração de 100 e random state como 42 e responda no [forms](https://forms.gle/ehUkKDt4oubVbsqd9) o valor da inércia para este modelo. "
   ]
  },
  {
   "cell_type": "code",
   "execution_count": null,
   "metadata": {},
   "outputs": [],
   "source": []
  },
  {
   "cell_type": "code",
   "execution_count": null,
   "metadata": {},
   "outputs": [],
   "source": []
  },
  {
   "cell_type": "code",
   "execution_count": null,
   "metadata": {},
   "outputs": [],
   "source": []
  },
  {
   "cell_type": "code",
   "execution_count": null,
   "metadata": {},
   "outputs": [],
   "source": []
  }
 ],
 "metadata": {
  "kernelspec": {
   "display_name": "base",
   "language": "python",
   "name": "python3"
  },
  "language_info": {
   "codemirror_mode": {
    "name": "ipython",
    "version": 3
   },
   "file_extension": ".py",
   "mimetype": "text/x-python",
   "name": "python",
   "nbconvert_exporter": "python",
   "pygments_lexer": "ipython3",
   "version": "3.10.9"
  },
  "orig_nbformat": 4
 },
 "nbformat": 4,
 "nbformat_minor": 2
}
