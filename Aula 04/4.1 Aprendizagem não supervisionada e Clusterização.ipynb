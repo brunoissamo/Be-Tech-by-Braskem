{
 "cells": [
  {
   "cell_type": "markdown",
   "metadata": {},
   "source": [
    "# Aula 4 - Aprendizagem não-supervisionada e clusterização\n",
    "\n",
    "Na aula de hoje, vamos explorar os seguintes tópicos em Python:\n",
    "\n",
    "- 1) Aprendizagem não-supervisionada  \n",
    "Clusterização  \n",
    "Redução de dimensionalidade"
   ]
  },
  {
   "cell_type": "markdown",
   "metadata": {},
   "source": [
    "____\n",
    "____\n",
    "_____"
   ]
  },
  {
   "cell_type": "markdown",
   "metadata": {},
   "source": [
    "## 1) Aprendizagem não-supervisionada\n",
    "\n",
    "Chegamos ao nosso último tópico do módulo: **aprendizagem não-supervisionada (unsurpervised learning)**.\n",
    "\n",
    "Este tipo de aprendizagem se diferencia da aprendizagem supervisionada de modo muito simples: **os targets não fazem parte da base de dados!**\n",
    "\n",
    "> Na aprendizagem não-supervisionada, temos acesso apenas ao conjunto de features, $\\{\\vec{x}_i\\}_{i=1}^N$\n",
    "\n",
    "A perda que temos com relação à aprendizagem supervisionada é gigante: sem os targets, torna-se impossível a estimação do processo teórico $\\mathcal{F}$ que gerou os dados!\n",
    "\n",
    "Assim, o máximo que podemos fazer na aprendizagem não-supervisionada é a **determinação de estrutura nos dados**:\n",
    "\n",
    "<img src=https://www.researchgate.net/profile/Zhenyu-Wen-2/publication/336642133/figure/fig3/AS:815304842170368@1571395230317/Examples-of-Supervised-Learning-Linear-Regression-and-Unsupervised-Learning.png width=500>"
   ]
  },
  {
   "cell_type": "markdown",
   "metadata": {},
   "source": [
    "Em um problema de classificação, somos capazes de encontrar a fronteira de decisão dentre as classes que **são conhecidas no treino**:\n",
    "\n",
    "<img src=https://s3-sa-east-1.amazonaws.com/lcpi/f29c8ebf-dd5f-4fce-99bb-86ec8af21f51.PNG width=700>\n",
    "\n",
    "Já em com dados não-supervisionados, o máximo que podemos fazer é encontrar a estrutura presente nos dados (e com maior dificuldade!)\n",
    "\n",
    "<img src=https://s3-sa-east-1.amazonaws.com/lcpi/0c7b530d-e74b-4886-9601-740d054aa166.PNG width=300>"
   ]
  },
  {
   "cell_type": "markdown",
   "metadata": {},
   "source": [
    "Para muitas aplicações, isso já é suficiente: basta saber que os dados estão estruturados (agrupados/segmentados), sendo o significado de cada grupo/segmento de menor interesse, ou facilmente estimado de outra forma; ou, então, determinar aspectos importantes das features por si só, sem qualquer preocupação com o target.\n",
    "\n",
    "Neste curso, veremos dois grandes grupos de **técnicas não-supervisionadas**:\n",
    "\n",
    "- Clusterização - forma de encontrar grupos (clusters) nos dados;\n",
    "- Redução de dimensionalidade - importante processo de pré-processamento que visa reduzir o número de dimensões (features) de um dataset.\n",
    "\n",
    "Na aula de hoje, veremos técnicas de clusterização!"
   ]
  },
  {
   "cell_type": "markdown",
   "metadata": {},
   "source": [
    "______\n",
    "\n",
    "### Clusterização\n",
    "\n",
    "Este tipo de problema consiste em __agrupar__ itens semelhantes, isto é, criar __grupos__ (ou __clusters__) dos dados que são parecidos entre si.\n",
    "\n",
    "> O objetivo central é **dividir os dados em grupos distintos**, tais que **membros de cada grupo sejam similares entre si**  **diferentes a membros nos outros grupos**\n",
    "\n",
    "<img src=\"https://encrypted-tbn0.gstatic.com/images?q=tbn:ANd9GcSjleb9bnO4ivvONN70Fc5k4Xs48cab_4i0phSc_l0qvVndo8VFs0B5d0jCEWeNOk0pG3Y&usqp=CAU\" width=600><br><br>\n",
    "\n",
    "Problemas como estes podem aparecer em diversos contextos:\n",
    "\n",
    "- Identificação de tipos de clientes parecidos, para o direcionamento de marketing;\n",
    "- Agrupamento de cidades próximas para melhor logística de entrega de produtos;\n",
    "- Identificação de padrões climáticos;\n",
    "- Identificação de genes relacionados à determinada doença;\n",
    "- Identificação de documentos semelhantes em processos legais;\n",
    "\n",
    "...e qualquer outro problema em que você deseje **agrupar dados similares** ou ainda **encontrar alguma estrutura nos seus dados!**, mas tudo isso no que diz respeito ùnicamente **às features**!"
   ]
  },
  {
   "cell_type": "markdown",
   "metadata": {},
   "source": [
    "Vamos brincar um pouco. Como vocês agrupariam os personagens dos simpsons?"
   ]
  },
  {
   "cell_type": "markdown",
   "metadata": {},
   "source": [
    "<img src=\"data:image/jpeg;base64,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\">"
   ]
  },
  {
   "cell_type": "markdown",
   "metadata": {},
   "source": [
    "<img src=\"https://encrypted-tbn0.gstatic.com/images?q=tbn:ANd9GcSOVyM6GSLhZD2MfH1ek_69mPYoO5Rjd-6Btqu6_d0dB3eE_UJpjezzNBP4JHfGuUpgq2g&usqp=CAU\">"
   ]
  },
  {
   "cell_type": "markdown",
   "metadata": {},
   "source": [
    "Veja que não existe resposta certa, o agrupamento é feito de forma subjetiva e varia dependendo do objetivo pelo qual estamos fazendo"
   ]
  },
  {
   "cell_type": "markdown",
   "metadata": {},
   "source": [
    "___\n",
    "___\n",
    "___"
   ]
  },
  {
   "cell_type": "markdown",
   "metadata": {},
   "source": [
    "### Redução de dimensionalidade\n",
    "\n",
    "Para efetuar redução de dimensionalidade, basicamente há dois métodos: \n",
    "- extração de características (os algoritmos de extração de características criam novas características a partir de transformações ou combinações do conjunto de características original)\n",
    "- seleção de características (os algoritmos de seleção de características selecionam, segundo determinado critério, o melhor subconjunto do conjunto de características original)\n",
    "\n",
    "Em geral a seleção de características reduz o custo de medição de dados, e as características selecionadas mantém sua interpretação física original, mantendo as propriedades que possuíam quando foram criadas. Já as características transformadas geradas por extração de características podem prover uma habilidade de discriminação melhor que o melhor subconjunto das características originais, mas as novas características (combinações lineares ou não lineares das características originais) podem não possuir um significado físico.\n"
   ]
  },
  {
   "cell_type": "markdown",
   "metadata": {},
   "source": [
    "<img src='https://miro.medium.com/max/1396/1*WVFe7w1rzZWsmghdvaoXag.png' width=600>"
   ]
  },
  {
   "cell_type": "markdown",
   "metadata": {},
   "source": [
    "Redução de dimensionalidade é uma técnica bastante usada em datasets com o objetivo de aumentarmos a interpretabilidade dos dados minimizando a quantidade de informação perdida no processo.<br><br>\n",
    "\n",
    "Uma das técnicas utilizadas para esse processo é chamada **Principal Component Analysis (PCA)**.\n",
    "\n",
    "\n",
    "\n",
    "<img src=\"https://www.analyticsvidhya.com/wp-content/uploads/2016/03/2-1-e1458494877196.png\" width=800>\n",
    "\n",
    "Focaremos aqui no processo na interpretabilidade do processo pois a base matemática por trás do PCA é bem complexa. Mas esse processo basicamente reduz a dimensionalidade do nosso dataset em um valor n, seja a quantidade de dimensões que quisermos, e o que esse processo retorna para gente são features que representam a variabilidade dos nossos dados.<br><br>\n",
    "A vantagem desse processo é que ganhamos uma **interpretação gráfica dos dados** minimizando a perda de informação e é um processo interessante para utilizarmos para **testar modelos quando tivermos uma base de dados muito grande**, pois testamos o modelo com poucas features mas sem perder o valor dos dados originais.\n",
    "\n",
    "*Visualizamos os dados até 3 dimensões"
   ]
  },
  {
   "cell_type": "markdown",
   "metadata": {},
   "source": [
    "Caso queiram se aprofundar no assunto, fica o vídeo do [Statquest](https://www.youtube.com/watch?v=FgakZw6K1QQ)"
   ]
  },
  {
   "cell_type": "markdown",
   "metadata": {},
   "source": [
    "### Na prática!"
   ]
  },
  {
   "cell_type": "code",
   "execution_count": null,
   "metadata": {},
   "outputs": [],
   "source": [
    "import pandas as pd\n",
    "import numpy as np \n",
    "\n"
   ]
  },
  {
   "cell_type": "code",
   "execution_count": null,
   "metadata": {},
   "outputs": [],
   "source": []
  },
  {
   "cell_type": "code",
   "execution_count": null,
   "metadata": {},
   "outputs": [],
   "source": []
  },
  {
   "cell_type": "code",
   "execution_count": null,
   "metadata": {},
   "outputs": [],
   "source": []
  },
  {
   "cell_type": "code",
   "execution_count": null,
   "metadata": {},
   "outputs": [],
   "source": []
  }
 ],
 "metadata": {
  "kernelspec": {
   "display_name": "Python 3 (ipykernel)",
   "language": "python",
   "name": "python3"
  },
  "language_info": {
   "codemirror_mode": {
    "name": "ipython",
    "version": 3
   },
   "file_extension": ".py",
   "mimetype": "text/x-python",
   "name": "python",
   "nbconvert_exporter": "python",
   "pygments_lexer": "ipython3",
   "version": "3.10.9"
  },
  "varInspector": {
   "cols": {
    "lenName": 16,
    "lenType": 16,
    "lenVar": 40
   },
   "kernels_config": {
    "python": {
     "delete_cmd_postfix": "",
     "delete_cmd_prefix": "del ",
     "library": "var_list.py",
     "varRefreshCmd": "print(var_dic_list())"
    },
    "r": {
     "delete_cmd_postfix": ") ",
     "delete_cmd_prefix": "rm(",
     "library": "var_list.r",
     "varRefreshCmd": "cat(var_dic_list()) "
    }
   },
   "types_to_exclude": [
    "module",
    "function",
    "builtin_function_or_method",
    "instance",
    "_Feature"
   ],
   "window_display": false
  }
 },
 "nbformat": 4,
 "nbformat_minor": 4
}
