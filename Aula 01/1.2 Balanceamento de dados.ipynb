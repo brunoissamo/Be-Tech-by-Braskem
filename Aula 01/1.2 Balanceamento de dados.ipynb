{
 "cells": [
  {
   "cell_type": "markdown",
   "id": "c89e56cd",
   "metadata": {},
   "source": [
    "# Aula 1 - Balanceamento de dados"
   ]
  },
  {
   "cell_type": "code",
   "execution_count": null,
   "id": "2cdb3e08",
   "metadata": {
    "ExecuteTime": {
     "end_time": "2022-05-27T22:55:28.452648Z",
     "start_time": "2022-05-27T22:55:28.437690Z"
    }
   },
   "outputs": [],
   "source": [
    "# importando as bibliotecas\n",
    "import pandas as pd\n",
    "import numpy as np\n",
    "\n",
    "from sklearn.model_selection import train_test_split\n",
    "from sklearn.tree import DecisionTreeClassifier\n",
    "\n",
    "from sklearn.metrics import classification_report, ConfusionMatrixDisplay, confusion_matrix"
   ]
  },
  {
   "cell_type": "markdown",
   "id": "d62d7b74",
   "metadata": {},
   "source": [
    "Para falarmos um pouco sobre o que já aprendemos e introduzirmos alguns assuntos novos, vamos utilizar um dataset relacionado a crédito. As colunas desta são descritas abaixo:\n",
    "\n",
    "\n",
    "1 - age - idade : (numeric)\n",
    "\n",
    "2 - job - ocupação : type of job (categorical: \"admin.\", \"unknown\", \"unemployed\", \"management\", \"housemaid\", \"entrepreneur\", \"student\", \"blue-collar\", \"self-employed\", \"retired\", \"technician\", \"services\")\n",
    "\n",
    "3 - marital - estado civil : marital status (categorical: \"married\", \"divorced\", \"single\"; note: \"divorced\" means divorced or widowed)\n",
    "\n",
    "4 - education - escolaridade: (categorical: \"unknown\", \"secondary\", \"primary\", \"tertiary\")\n",
    "\n",
    "5 - default: has credit in default? (binary: \"yes\", \"no\")\n",
    "\n",
    "6 - balance - balanço: average yearly balance, in euros (numeric)\n",
    "\n",
    "7 - housing - financiamento imobiliário: has housing loan? (binary: \"yes\", \"no\")\n",
    "\n",
    "8 - loan - empréstimo pessoal: has personal loan? (binary: \"yes\", \"no\")\n",
    "\n",
    "9 - contact - contato: contact communication type (categorical: \"unknown\", \"telephone\", \"cellular\")\n",
    "\n",
    "10 - day - data: last contact day of the month (numeric)\n",
    "\n",
    "11 - month - mês: last contact month of year (categorical: \"jan\", \"feb\", \"mar\", ..., \"nov\", \"dec\")\n",
    "\n",
    "12 - duration - duração: last contact duration, in seconds (numeric)\n",
    "\n",
    "13 - campaign - campanha: number of contacts performed during this campaign and for this client (numeric, includes last contact)\n",
    "\n",
    "14 - pdays - dias passados: number of days that passed by after the client was last contacted from a previous campaign (numeric, -1 means client was not previously contacted)\n",
    "\n",
    "15 - previous - anterior: number of contacts performed before this campaign and for this client (numeric)\n",
    "\n",
    "16 - poutcome - resultado: outcome of the previous marketing campaign (categorical: \"unknown\",\"other\",\"failure\",\"success\")\n",
    "\n",
    "Output variable (desired target):\n",
    "\n",
    "17 - y - has the client subscribed a term deposit? (binary: \"yes\",\"no\")"
   ]
  },
  {
   "cell_type": "code",
   "execution_count": 11,
   "id": "ff8bc693",
   "metadata": {
    "ExecuteTime": {
     "end_time": "2022-05-27T22:30:37.010589Z",
     "start_time": "2022-05-27T22:30:36.808913Z"
    }
   },
   "outputs": [],
   "source": [
    "# Carregar o dataset (depois de ter um conhecimento prévio dele)\n",
    "df =  pd.read_csv('../datasets/bank-full.csv')"
   ]
  },
  {
   "cell_type": "code",
   "execution_count": 13,
   "id": "91b51031",
   "metadata": {
    "ExecuteTime": {
     "end_time": "2022-05-27T22:38:07.162502Z",
     "start_time": "2022-05-27T22:38:07.112630Z"
    }
   },
   "outputs": [
    {
     "data": {
      "text/html": [
       "<div>\n",
       "<style scoped>\n",
       "    .dataframe tbody tr th:only-of-type {\n",
       "        vertical-align: middle;\n",
       "    }\n",
       "\n",
       "    .dataframe tbody tr th {\n",
       "        vertical-align: top;\n",
       "    }\n",
       "\n",
       "    .dataframe thead th {\n",
       "        text-align: right;\n",
       "    }\n",
       "</style>\n",
       "<table border=\"1\" class=\"dataframe\">\n",
       "  <thead>\n",
       "    <tr style=\"text-align: right;\">\n",
       "      <th></th>\n",
       "      <th>age</th>\n",
       "      <th>job</th>\n",
       "      <th>marital</th>\n",
       "      <th>education</th>\n",
       "      <th>default</th>\n",
       "      <th>balance</th>\n",
       "      <th>housing</th>\n",
       "      <th>loan</th>\n",
       "      <th>contact</th>\n",
       "      <th>day</th>\n",
       "      <th>month</th>\n",
       "      <th>duration</th>\n",
       "      <th>campaign</th>\n",
       "      <th>pdays</th>\n",
       "      <th>previous</th>\n",
       "      <th>poutcome</th>\n",
       "      <th>Target</th>\n",
       "    </tr>\n",
       "  </thead>\n",
       "  <tbody>\n",
       "    <tr>\n",
       "      <th>0</th>\n",
       "      <td>58</td>\n",
       "      <td>management</td>\n",
       "      <td>married</td>\n",
       "      <td>tertiary</td>\n",
       "      <td>no</td>\n",
       "      <td>2143</td>\n",
       "      <td>yes</td>\n",
       "      <td>no</td>\n",
       "      <td>unknown</td>\n",
       "      <td>5</td>\n",
       "      <td>may</td>\n",
       "      <td>261</td>\n",
       "      <td>1</td>\n",
       "      <td>-1</td>\n",
       "      <td>0</td>\n",
       "      <td>unknown</td>\n",
       "      <td>no</td>\n",
       "    </tr>\n",
       "    <tr>\n",
       "      <th>1</th>\n",
       "      <td>44</td>\n",
       "      <td>technician</td>\n",
       "      <td>single</td>\n",
       "      <td>secondary</td>\n",
       "      <td>no</td>\n",
       "      <td>29</td>\n",
       "      <td>yes</td>\n",
       "      <td>no</td>\n",
       "      <td>unknown</td>\n",
       "      <td>5</td>\n",
       "      <td>may</td>\n",
       "      <td>151</td>\n",
       "      <td>1</td>\n",
       "      <td>-1</td>\n",
       "      <td>0</td>\n",
       "      <td>unknown</td>\n",
       "      <td>no</td>\n",
       "    </tr>\n",
       "    <tr>\n",
       "      <th>2</th>\n",
       "      <td>33</td>\n",
       "      <td>entrepreneur</td>\n",
       "      <td>married</td>\n",
       "      <td>secondary</td>\n",
       "      <td>no</td>\n",
       "      <td>2</td>\n",
       "      <td>yes</td>\n",
       "      <td>yes</td>\n",
       "      <td>unknown</td>\n",
       "      <td>5</td>\n",
       "      <td>may</td>\n",
       "      <td>76</td>\n",
       "      <td>1</td>\n",
       "      <td>-1</td>\n",
       "      <td>0</td>\n",
       "      <td>unknown</td>\n",
       "      <td>no</td>\n",
       "    </tr>\n",
       "    <tr>\n",
       "      <th>3</th>\n",
       "      <td>47</td>\n",
       "      <td>blue-collar</td>\n",
       "      <td>married</td>\n",
       "      <td>unknown</td>\n",
       "      <td>no</td>\n",
       "      <td>1506</td>\n",
       "      <td>yes</td>\n",
       "      <td>no</td>\n",
       "      <td>unknown</td>\n",
       "      <td>5</td>\n",
       "      <td>may</td>\n",
       "      <td>92</td>\n",
       "      <td>1</td>\n",
       "      <td>-1</td>\n",
       "      <td>0</td>\n",
       "      <td>unknown</td>\n",
       "      <td>no</td>\n",
       "    </tr>\n",
       "    <tr>\n",
       "      <th>4</th>\n",
       "      <td>33</td>\n",
       "      <td>unknown</td>\n",
       "      <td>single</td>\n",
       "      <td>unknown</td>\n",
       "      <td>no</td>\n",
       "      <td>1</td>\n",
       "      <td>no</td>\n",
       "      <td>no</td>\n",
       "      <td>unknown</td>\n",
       "      <td>5</td>\n",
       "      <td>may</td>\n",
       "      <td>198</td>\n",
       "      <td>1</td>\n",
       "      <td>-1</td>\n",
       "      <td>0</td>\n",
       "      <td>unknown</td>\n",
       "      <td>no</td>\n",
       "    </tr>\n",
       "  </tbody>\n",
       "</table>\n",
       "</div>"
      ],
      "text/plain": [
       "   age           job  marital  education default  balance housing loan  \\\n",
       "0   58    management  married   tertiary      no     2143     yes   no   \n",
       "1   44    technician   single  secondary      no       29     yes   no   \n",
       "2   33  entrepreneur  married  secondary      no        2     yes  yes   \n",
       "3   47   blue-collar  married    unknown      no     1506     yes   no   \n",
       "4   33       unknown   single    unknown      no        1      no   no   \n",
       "\n",
       "   contact  day month  duration  campaign  pdays  previous poutcome Target  \n",
       "0  unknown    5   may       261         1     -1         0  unknown     no  \n",
       "1  unknown    5   may       151         1     -1         0  unknown     no  \n",
       "2  unknown    5   may        76         1     -1         0  unknown     no  \n",
       "3  unknown    5   may        92         1     -1         0  unknown     no  \n",
       "4  unknown    5   may       198         1     -1         0  unknown     no  "
      ]
     },
     "execution_count": 13,
     "metadata": {},
     "output_type": "execute_result"
    }
   ],
   "source": [
    "df.head()"
   ]
  },
  {
   "cell_type": "code",
   "execution_count": 14,
   "id": "bf3e5f11",
   "metadata": {
    "ExecuteTime": {
     "end_time": "2022-05-27T22:40:09.820560Z",
     "start_time": "2022-05-27T22:40:09.751688Z"
    }
   },
   "outputs": [
    {
     "data": {
      "text/html": [
       "<div>\n",
       "<style scoped>\n",
       "    .dataframe tbody tr th:only-of-type {\n",
       "        vertical-align: middle;\n",
       "    }\n",
       "\n",
       "    .dataframe tbody tr th {\n",
       "        vertical-align: top;\n",
       "    }\n",
       "\n",
       "    .dataframe thead th {\n",
       "        text-align: right;\n",
       "    }\n",
       "</style>\n",
       "<table border=\"1\" class=\"dataframe\">\n",
       "  <thead>\n",
       "    <tr style=\"text-align: right;\">\n",
       "      <th></th>\n",
       "      <th>age</th>\n",
       "      <th>balance</th>\n",
       "      <th>day</th>\n",
       "      <th>duration</th>\n",
       "      <th>campaign</th>\n",
       "      <th>pdays</th>\n",
       "      <th>previous</th>\n",
       "    </tr>\n",
       "  </thead>\n",
       "  <tbody>\n",
       "    <tr>\n",
       "      <th>count</th>\n",
       "      <td>45211.000000</td>\n",
       "      <td>45211.000000</td>\n",
       "      <td>45211.000000</td>\n",
       "      <td>45211.000000</td>\n",
       "      <td>45211.000000</td>\n",
       "      <td>45211.000000</td>\n",
       "      <td>45211.000000</td>\n",
       "    </tr>\n",
       "    <tr>\n",
       "      <th>mean</th>\n",
       "      <td>40.936210</td>\n",
       "      <td>1362.272058</td>\n",
       "      <td>15.806419</td>\n",
       "      <td>258.163080</td>\n",
       "      <td>2.763841</td>\n",
       "      <td>40.197828</td>\n",
       "      <td>0.580323</td>\n",
       "    </tr>\n",
       "    <tr>\n",
       "      <th>std</th>\n",
       "      <td>10.618762</td>\n",
       "      <td>3044.765829</td>\n",
       "      <td>8.322476</td>\n",
       "      <td>257.527812</td>\n",
       "      <td>3.098021</td>\n",
       "      <td>100.128746</td>\n",
       "      <td>2.303441</td>\n",
       "    </tr>\n",
       "    <tr>\n",
       "      <th>min</th>\n",
       "      <td>18.000000</td>\n",
       "      <td>-8019.000000</td>\n",
       "      <td>1.000000</td>\n",
       "      <td>0.000000</td>\n",
       "      <td>1.000000</td>\n",
       "      <td>-1.000000</td>\n",
       "      <td>0.000000</td>\n",
       "    </tr>\n",
       "    <tr>\n",
       "      <th>25%</th>\n",
       "      <td>33.000000</td>\n",
       "      <td>72.000000</td>\n",
       "      <td>8.000000</td>\n",
       "      <td>103.000000</td>\n",
       "      <td>1.000000</td>\n",
       "      <td>-1.000000</td>\n",
       "      <td>0.000000</td>\n",
       "    </tr>\n",
       "    <tr>\n",
       "      <th>50%</th>\n",
       "      <td>39.000000</td>\n",
       "      <td>448.000000</td>\n",
       "      <td>16.000000</td>\n",
       "      <td>180.000000</td>\n",
       "      <td>2.000000</td>\n",
       "      <td>-1.000000</td>\n",
       "      <td>0.000000</td>\n",
       "    </tr>\n",
       "    <tr>\n",
       "      <th>75%</th>\n",
       "      <td>48.000000</td>\n",
       "      <td>1428.000000</td>\n",
       "      <td>21.000000</td>\n",
       "      <td>319.000000</td>\n",
       "      <td>3.000000</td>\n",
       "      <td>-1.000000</td>\n",
       "      <td>0.000000</td>\n",
       "    </tr>\n",
       "    <tr>\n",
       "      <th>max</th>\n",
       "      <td>95.000000</td>\n",
       "      <td>102127.000000</td>\n",
       "      <td>31.000000</td>\n",
       "      <td>4918.000000</td>\n",
       "      <td>63.000000</td>\n",
       "      <td>871.000000</td>\n",
       "      <td>275.000000</td>\n",
       "    </tr>\n",
       "  </tbody>\n",
       "</table>\n",
       "</div>"
      ],
      "text/plain": [
       "                age        balance           day      duration      campaign  \\\n",
       "count  45211.000000   45211.000000  45211.000000  45211.000000  45211.000000   \n",
       "mean      40.936210    1362.272058     15.806419    258.163080      2.763841   \n",
       "std       10.618762    3044.765829      8.322476    257.527812      3.098021   \n",
       "min       18.000000   -8019.000000      1.000000      0.000000      1.000000   \n",
       "25%       33.000000      72.000000      8.000000    103.000000      1.000000   \n",
       "50%       39.000000     448.000000     16.000000    180.000000      2.000000   \n",
       "75%       48.000000    1428.000000     21.000000    319.000000      3.000000   \n",
       "max       95.000000  102127.000000     31.000000   4918.000000     63.000000   \n",
       "\n",
       "              pdays      previous  \n",
       "count  45211.000000  45211.000000  \n",
       "mean      40.197828      0.580323  \n",
       "std      100.128746      2.303441  \n",
       "min       -1.000000      0.000000  \n",
       "25%       -1.000000      0.000000  \n",
       "50%       -1.000000      0.000000  \n",
       "75%       -1.000000      0.000000  \n",
       "max      871.000000    275.000000  "
      ]
     },
     "execution_count": 14,
     "metadata": {},
     "output_type": "execute_result"
    }
   ],
   "source": [
    "# Análise exporatória de dados\n",
    "# nulos (missing), dados duplicados, distribuição, (tratamento de dados), dados categóricos/numéricos\n",
    "df.describe()"
   ]
  },
  {
   "cell_type": "code",
   "execution_count": 15,
   "id": "bc4265b3",
   "metadata": {
    "ExecuteTime": {
     "end_time": "2022-05-27T22:40:26.383298Z",
     "start_time": "2022-05-27T22:40:26.268381Z"
    }
   },
   "outputs": [
    {
     "name": "stdout",
     "output_type": "stream",
     "text": [
      "<class 'pandas.core.frame.DataFrame'>\n",
      "RangeIndex: 45211 entries, 0 to 45210\n",
      "Data columns (total 17 columns):\n",
      " #   Column     Non-Null Count  Dtype \n",
      "---  ------     --------------  ----- \n",
      " 0   age        45211 non-null  int64 \n",
      " 1   job        45211 non-null  object\n",
      " 2   marital    45211 non-null  object\n",
      " 3   education  45211 non-null  object\n",
      " 4   default    45211 non-null  object\n",
      " 5   balance    45211 non-null  int64 \n",
      " 6   housing    45211 non-null  object\n",
      " 7   loan       45211 non-null  object\n",
      " 8   contact    45211 non-null  object\n",
      " 9   day        45211 non-null  int64 \n",
      " 10  month      45211 non-null  object\n",
      " 11  duration   45211 non-null  int64 \n",
      " 12  campaign   45211 non-null  int64 \n",
      " 13  pdays      45211 non-null  int64 \n",
      " 14  previous   45211 non-null  int64 \n",
      " 15  poutcome   45211 non-null  object\n",
      " 16  Target     45211 non-null  object\n",
      "dtypes: int64(7), object(10)\n",
      "memory usage: 5.9+ MB\n"
     ]
    }
   ],
   "source": [
    "df.info()"
   ]
  },
  {
   "cell_type": "code",
   "execution_count": 16,
   "id": "2cd9ed72",
   "metadata": {
    "ExecuteTime": {
     "end_time": "2022-05-27T22:42:21.519507Z",
     "start_time": "2022-05-27T22:42:21.500556Z"
    }
   },
   "outputs": [],
   "source": [
    "# Definir quem são as features e quem é o target\n",
    "X = df.select_dtypes(include=np.number)\n",
    "y = df['Target']"
   ]
  },
  {
   "cell_type": "code",
   "execution_count": 17,
   "id": "938b4968",
   "metadata": {
    "ExecuteTime": {
     "end_time": "2022-05-27T22:44:12.252677Z",
     "start_time": "2022-05-27T22:44:12.230697Z"
    }
   },
   "outputs": [
    {
     "data": {
      "text/plain": [
       "no     39922\n",
       "yes     5289\n",
       "Name: Target, dtype: int64"
      ]
     },
     "execution_count": 17,
     "metadata": {},
     "output_type": "execute_result"
    }
   ],
   "source": [
    "df['Target'].value_counts()"
   ]
  },
  {
   "cell_type": "code",
   "execution_count": 18,
   "id": "6b34d6e4",
   "metadata": {
    "ExecuteTime": {
     "end_time": "2022-05-27T22:44:46.956674Z",
     "start_time": "2022-05-27T22:44:46.937728Z"
    }
   },
   "outputs": [
    {
     "data": {
      "text/plain": [
       "no     0.883015\n",
       "yes    0.116985\n",
       "Name: Target, dtype: float64"
      ]
     },
     "execution_count": 18,
     "metadata": {},
     "output_type": "execute_result"
    }
   ],
   "source": [
    "df['Target'].value_counts(normalize=True)"
   ]
  },
  {
   "cell_type": "markdown",
   "id": "a261b6db",
   "metadata": {},
   "source": [
    "Dataset completamente desbalanceado"
   ]
  },
  {
   "cell_type": "code",
   "execution_count": 19,
   "id": "f9e08a12",
   "metadata": {
    "ExecuteTime": {
     "end_time": "2022-05-27T22:47:38.985035Z",
     "start_time": "2022-05-27T22:47:38.900260Z"
    }
   },
   "outputs": [],
   "source": [
    "# particionar os dados em treino e teste\n",
    "X_train, X_test, y_train, y_test = train_test_split(X, y, random_state=42, test_size=0.2)"
   ]
  },
  {
   "cell_type": "code",
   "execution_count": 21,
   "id": "f9c6dd38",
   "metadata": {
    "ExecuteTime": {
     "end_time": "2022-05-27T23:27:10.321849Z",
     "start_time": "2022-05-27T23:27:10.300043Z"
    }
   },
   "outputs": [
    {
     "data": {
      "text/plain": [
       "no     0.883931\n",
       "yes    0.116069\n",
       "Name: Target, dtype: float64"
      ]
     },
     "execution_count": 21,
     "metadata": {},
     "output_type": "execute_result"
    }
   ],
   "source": [
    "y_train.value_counts(normalize=True)"
   ]
  },
  {
   "cell_type": "code",
   "execution_count": 22,
   "id": "f58d4039",
   "metadata": {
    "ExecuteTime": {
     "end_time": "2022-05-27T23:27:20.873623Z",
     "start_time": "2022-05-27T23:27:20.850688Z"
    }
   },
   "outputs": [
    {
     "data": {
      "text/plain": [
       "no     0.879354\n",
       "yes    0.120646\n",
       "Name: Target, dtype: float64"
      ]
     },
     "execution_count": 22,
     "metadata": {},
     "output_type": "execute_result"
    }
   ],
   "source": [
    "y_test.value_counts(normalize=True)"
   ]
  },
  {
   "cell_type": "code",
   "execution_count": 23,
   "id": "6ec9a28d",
   "metadata": {
    "ExecuteTime": {
     "end_time": "2022-05-27T22:53:22.560556Z",
     "start_time": "2022-05-27T22:53:22.286533Z"
    }
   },
   "outputs": [
    {
     "data": {
      "text/html": [
       "<style>#sk-container-id-1 {color: black;background-color: white;}#sk-container-id-1 pre{padding: 0;}#sk-container-id-1 div.sk-toggleable {background-color: white;}#sk-container-id-1 label.sk-toggleable__label {cursor: pointer;display: block;width: 100%;margin-bottom: 0;padding: 0.3em;box-sizing: border-box;text-align: center;}#sk-container-id-1 label.sk-toggleable__label-arrow:before {content: \"▸\";float: left;margin-right: 0.25em;color: #696969;}#sk-container-id-1 label.sk-toggleable__label-arrow:hover:before {color: black;}#sk-container-id-1 div.sk-estimator:hover label.sk-toggleable__label-arrow:before {color: black;}#sk-container-id-1 div.sk-toggleable__content {max-height: 0;max-width: 0;overflow: hidden;text-align: left;background-color: #f0f8ff;}#sk-container-id-1 div.sk-toggleable__content pre {margin: 0.2em;color: black;border-radius: 0.25em;background-color: #f0f8ff;}#sk-container-id-1 input.sk-toggleable__control:checked~div.sk-toggleable__content {max-height: 200px;max-width: 100%;overflow: auto;}#sk-container-id-1 input.sk-toggleable__control:checked~label.sk-toggleable__label-arrow:before {content: \"▾\";}#sk-container-id-1 div.sk-estimator input.sk-toggleable__control:checked~label.sk-toggleable__label {background-color: #d4ebff;}#sk-container-id-1 div.sk-label input.sk-toggleable__control:checked~label.sk-toggleable__label {background-color: #d4ebff;}#sk-container-id-1 input.sk-hidden--visually {border: 0;clip: rect(1px 1px 1px 1px);clip: rect(1px, 1px, 1px, 1px);height: 1px;margin: -1px;overflow: hidden;padding: 0;position: absolute;width: 1px;}#sk-container-id-1 div.sk-estimator {font-family: monospace;background-color: #f0f8ff;border: 1px dotted black;border-radius: 0.25em;box-sizing: border-box;margin-bottom: 0.5em;}#sk-container-id-1 div.sk-estimator:hover {background-color: #d4ebff;}#sk-container-id-1 div.sk-parallel-item::after {content: \"\";width: 100%;border-bottom: 1px solid gray;flex-grow: 1;}#sk-container-id-1 div.sk-label:hover label.sk-toggleable__label {background-color: #d4ebff;}#sk-container-id-1 div.sk-serial::before {content: \"\";position: absolute;border-left: 1px solid gray;box-sizing: border-box;top: 0;bottom: 0;left: 50%;z-index: 0;}#sk-container-id-1 div.sk-serial {display: flex;flex-direction: column;align-items: center;background-color: white;padding-right: 0.2em;padding-left: 0.2em;position: relative;}#sk-container-id-1 div.sk-item {position: relative;z-index: 1;}#sk-container-id-1 div.sk-parallel {display: flex;align-items: stretch;justify-content: center;background-color: white;position: relative;}#sk-container-id-1 div.sk-item::before, #sk-container-id-1 div.sk-parallel-item::before {content: \"\";position: absolute;border-left: 1px solid gray;box-sizing: border-box;top: 0;bottom: 0;left: 50%;z-index: -1;}#sk-container-id-1 div.sk-parallel-item {display: flex;flex-direction: column;z-index: 1;position: relative;background-color: white;}#sk-container-id-1 div.sk-parallel-item:first-child::after {align-self: flex-end;width: 50%;}#sk-container-id-1 div.sk-parallel-item:last-child::after {align-self: flex-start;width: 50%;}#sk-container-id-1 div.sk-parallel-item:only-child::after {width: 0;}#sk-container-id-1 div.sk-dashed-wrapped {border: 1px dashed gray;margin: 0 0.4em 0.5em 0.4em;box-sizing: border-box;padding-bottom: 0.4em;background-color: white;}#sk-container-id-1 div.sk-label label {font-family: monospace;font-weight: bold;display: inline-block;line-height: 1.2em;}#sk-container-id-1 div.sk-label-container {text-align: center;}#sk-container-id-1 div.sk-container {/* jupyter's `normalize.less` sets `[hidden] { display: none; }` but bootstrap.min.css set `[hidden] { display: none !important; }` so we also need the `!important` here to be able to override the default hidden behavior on the sphinx rendered scikit-learn.org. See: https://github.com/scikit-learn/scikit-learn/issues/21755 */display: inline-block !important;position: relative;}#sk-container-id-1 div.sk-text-repr-fallback {display: none;}</style><div id=\"sk-container-id-1\" class=\"sk-top-container\"><div class=\"sk-text-repr-fallback\"><pre>DecisionTreeClassifier()</pre><b>In a Jupyter environment, please rerun this cell to show the HTML representation or trust the notebook. <br />On GitHub, the HTML representation is unable to render, please try loading this page with nbviewer.org.</b></div><div class=\"sk-container\" hidden><div class=\"sk-item\"><div class=\"sk-estimator sk-toggleable\"><input class=\"sk-toggleable__control sk-hidden--visually\" id=\"sk-estimator-id-1\" type=\"checkbox\" checked><label for=\"sk-estimator-id-1\" class=\"sk-toggleable__label sk-toggleable__label-arrow\">DecisionTreeClassifier</label><div class=\"sk-toggleable__content\"><pre>DecisionTreeClassifier()</pre></div></div></div></div></div>"
      ],
      "text/plain": [
       "DecisionTreeClassifier()"
      ]
     },
     "execution_count": 23,
     "metadata": {},
     "output_type": "execute_result"
    }
   ],
   "source": [
    "# Escolher um modelo. Modelo supervisionado - classificação\n",
    "model = DecisionTreeClassifier() # instanciando o modelo\n",
    "\n",
    "# Treina o modelo\n",
    "model.fit(X_train, y_train)\n"
   ]
  },
  {
   "cell_type": "code",
   "execution_count": 24,
   "id": "ae8ec5ac",
   "metadata": {
    "ExecuteTime": {
     "end_time": "2022-05-27T22:54:45.185887Z",
     "start_time": "2022-05-27T22:54:45.166938Z"
    }
   },
   "outputs": [],
   "source": [
    "# Avalia o modelo\n",
    "y_pred = model.predict(X_test) # predição com dados de teste\n"
   ]
  },
  {
   "cell_type": "code",
   "execution_count": 26,
   "id": "e897b74a",
   "metadata": {
    "ExecuteTime": {
     "end_time": "2022-05-27T22:56:22.299146Z",
     "start_time": "2022-05-27T22:56:21.619725Z"
    }
   },
   "outputs": [
    {
     "name": "stdout",
     "output_type": "stream",
     "text": [
      "              precision    recall  f1-score   support\n",
      "\n",
      "          no       0.92      0.91      0.91      7952\n",
      "         yes       0.39      0.42      0.40      1091\n",
      "\n",
      "    accuracy                           0.85      9043\n",
      "   macro avg       0.65      0.66      0.66      9043\n",
      "weighted avg       0.86      0.85      0.85      9043\n",
      "\n"
     ]
    }
   ],
   "source": [
    "print(classification_report(y_test, y_pred))"
   ]
  },
  {
   "cell_type": "code",
   "execution_count": 27,
   "id": "7d63b9e3",
   "metadata": {
    "ExecuteTime": {
     "end_time": "2022-05-27T22:56:42.936902Z",
     "start_time": "2022-05-27T22:56:42.517343Z"
    }
   },
   "outputs": [
    {
     "data": {
      "image/png": "[encoded data removed]",
      "text/plain": [
       "<Figure size 640x480 with 2 Axes>"
      ]
     },
     "metadata": {},
     "output_type": "display_data"
    }
   ],
   "source": [
    "cm = confusion_matrix(y_test, y_pred)\n",
    "\n",
    "ConfusionMatrixDisplay(cm).plot();"
   ]
  },
  {
   "cell_type": "markdown",
   "id": "2ef5c025",
   "metadata": {},
   "source": [
    "# Balanceamento dos dados\n",
    "\n",
    "1. Oversampling: aumentar a quantidade de amostras da classe minoritãria para igualar com a majoritária\n",
    "2. Undersampling: diminuir a quantidade de amostras da classe majoritária para igualar a minoritária\n",
    "\n",
    "<img src=\"images/resampling.png\"  style=\"width:800px\" />\n",
    "\n",
    "\n",
    "*OBSERVAÇÃO*: fazer balanceamento apenas entre as amostras de treinamento!!!"
   ]
  },
  {
   "cell_type": "code",
   "execution_count": 29,
   "id": "62c0cd89",
   "metadata": {
    "ExecuteTime": {
     "end_time": "2022-05-27T22:58:06.471655Z",
     "start_time": "2022-05-27T22:58:06.449715Z"
    }
   },
   "outputs": [
    {
     "data": {
      "text/plain": [
       "no     0.883931\n",
       "yes    0.116069\n",
       "Name: Target, dtype: float64"
      ]
     },
     "execution_count": 29,
     "metadata": {},
     "output_type": "execute_result"
    }
   ],
   "source": [
    "y_train.value_counts(normalize=True)"
   ]
  },
  {
   "cell_type": "markdown",
   "id": "69774b29",
   "metadata": {},
   "source": [
    "Biblioteca: https://imbalanced-learn.org/"
   ]
  },
  {
   "cell_type": "code",
   "execution_count": 30,
   "id": "60d72f1f",
   "metadata": {},
   "outputs": [
    {
     "name": "stdout",
     "output_type": "stream",
     "text": [
      "Requirement already satisfied: imblearn in c:\\users\\bruno scale\\anaconda3\\lib\\site-packages (0.0)\n",
      "Requirement already satisfied: imbalanced-learn in c:\\users\\bruno scale\\anaconda3\\lib\\site-packages (from imblearn) (0.10.1)\n",
      "Requirement already satisfied: joblib>=1.1.1 in c:\\users\\bruno scale\\anaconda3\\lib\\site-packages (from imbalanced-learn->imblearn) (1.1.1)\n",
      "Requirement already satisfied: scikit-learn>=1.0.2 in c:\\users\\bruno scale\\anaconda3\\lib\\site-packages (from imbalanced-learn->imblearn) (1.2.1)\n",
      "Requirement already satisfied: scipy>=1.3.2 in c:\\users\\bruno scale\\anaconda3\\lib\\site-packages (from imbalanced-learn->imblearn) (1.10.0)\n",
      "Requirement already satisfied: threadpoolctl>=2.0.0 in c:\\users\\bruno scale\\anaconda3\\lib\\site-packages (from imbalanced-learn->imblearn) (2.2.0)\n",
      "Requirement already satisfied: numpy>=1.17.3 in c:\\users\\bruno scale\\anaconda3\\lib\\site-packages (from imbalanced-learn->imblearn) (1.23.5)\n"
     ]
    }
   ],
   "source": [
    "!pip install imblearn"
   ]
  },
  {
   "cell_type": "markdown",
   "id": "e84d5a7c",
   "metadata": {},
   "source": [
    "### 1) Oversampling\n",
    "[imblearn.over_sampling.SMOTE](https://imbalanced-learn.org/stable/references/generated/imblearn.over_sampling.SMOTE.html)  \n",
    "O SMOTE (Synthetic Minority Over-sampling Technique) usa interpolação entre os dados da classe minoritária para gerar pontos aleatórios. Ele funciona selecionando exemplos próximos no espaço, desenhando uma linha entre os exemplos no espaço de recursos e criando uma nova amostra em um ponto ao longo dessa linha."
   ]
  },
  {
   "cell_type": "code",
   "execution_count": 33,
   "id": "68236bfc",
   "metadata": {
    "ExecuteTime": {
     "end_time": "2022-05-27T23:06:51.802893Z",
     "start_time": "2022-05-27T23:06:51.563030Z"
    }
   },
   "outputs": [
    {
     "name": "stdout",
     "output_type": "stream",
     "text": [
      "Shape do dataset original Counter({'no': 31970, 'yes': 4198})\n",
      "Shape do dataset após oversampling Counter({'no': 31970, 'yes': 31970})\n"
     ]
    }
   ],
   "source": [
    "from imblearn.over_sampling import SMOTE\n",
    "from collections import Counter\n",
    "\n",
    "print('Shape do dataset original', Counter(y_train))\n",
    "\n",
    "sm = SMOTE(random_state=42)\n",
    "X_res, y_res = sm.fit_resample(X_train, y_train)\n",
    "\n",
    "print('Shape do dataset após oversampling', Counter(y_res))"
   ]
  },
  {
   "cell_type": "markdown",
   "id": "cd8da976",
   "metadata": {},
   "source": [
    "[imblearn.over_sampling.RandomOverSampler](https://imbalanced-learn.org/stable/references/generated/imblearn.over_sampling.RandomOverSampler.html)  \n",
    "O Random Oversample cria pontos aleatórios no espaço baseado nos próprios pontos da classe minoritária."
   ]
  },
  {
   "cell_type": "code",
   "execution_count": 34,
   "id": "490adf70",
   "metadata": {
    "ExecuteTime": {
     "end_time": "2022-05-27T23:09:14.220670Z",
     "start_time": "2022-05-27T23:09:14.069071Z"
    }
   },
   "outputs": [
    {
     "name": "stdout",
     "output_type": "stream",
     "text": [
      "Shape do dataset original Counter({'no': 31970, 'yes': 4198})\n",
      "Shape do dataset após oversampling Counter({'no': 31970, 'yes': 31970})\n"
     ]
    }
   ],
   "source": [
    "from imblearn.over_sampling import RandomOverSampler\n",
    "from collections import Counter\n",
    "\n",
    "print('Shape do dataset original', Counter(y_train))\n",
    "\n",
    "ros = RandomOverSampler(random_state=42)\n",
    "X_res, y_res = ros.fit_resample(X_train, y_train)\n",
    "\n",
    "print('Shape do dataset após oversampling', Counter(y_res))"
   ]
  },
  {
   "cell_type": "markdown",
   "id": "8ad05b6c",
   "metadata": {},
   "source": [
    "[imblearn.over_sampling.ADASYN](https://imbalanced-learn.org/stable/references/generated/imblearn.over_sampling.ADASYN.html)  \n",
    "O algoritmo ADAptive SYNthetic (ADASYN) é semelhante ao SMOTE, e funciona gerando amostras sintéticas para classes minoritárias com base no conjunto de dados original. Calcula a distribuição de densidade de cada amostra da classe minoritária e gera amostras sintéticas de acordo esta distribuição de densidade."
   ]
  },
  {
   "cell_type": "code",
   "execution_count": 36,
   "id": "8e9b9acf",
   "metadata": {
    "ExecuteTime": {
     "end_time": "2022-05-27T23:10:17.391351Z",
     "start_time": "2022-05-27T23:10:16.850495Z"
    }
   },
   "outputs": [
    {
     "name": "stdout",
     "output_type": "stream",
     "text": [
      "Shape do dataset original Counter({'no': 31970, 'yes': 4198})\n",
      "Shape do dataset após oversampling Counter({'yes': 32798, 'no': 31970})\n"
     ]
    }
   ],
   "source": [
    "from imblearn.over_sampling import ADASYN\n",
    "from collections import Counter\n",
    "\n",
    "print('Shape do dataset original', Counter(y_train))\n",
    "\n",
    "ada = ADASYN(random_state=42)\n",
    "X_res_1, y_res_1 = ada.fit_resample(X_train, y_train)\n",
    "\n",
    "print('Shape do dataset após oversampling', Counter(y_res_1))"
   ]
  },
  {
   "cell_type": "markdown",
   "id": "df652bde",
   "metadata": {},
   "source": [
    "<img src=https://imbalanced-learn.org/stable/_images/sphx_glr_plot_comparison_over_sampling_004.png width=900>"
   ]
  },
  {
   "cell_type": "markdown",
   "id": "1e4e54e2",
   "metadata": {},
   "source": [
    "### 2) Undersampling"
   ]
  },
  {
   "cell_type": "markdown",
   "id": "40f0c026",
   "metadata": {},
   "source": [
    "[imblearn.under_sampling.RandomUnderSampler](https://imbalanced-learn.org/stable/references/generated/imblearn.under_sampling.RandomUnderSampler.html)  \n",
    "A técnica de Random Undersampling envolve a seleção aleatória de exemplos da classe majoritária e a exclusão deles do conjunto de dados de treinamento."
   ]
  },
  {
   "cell_type": "code",
   "execution_count": 37,
   "id": "9afc7a4f",
   "metadata": {
    "ExecuteTime": {
     "end_time": "2022-05-27T23:12:32.109932Z",
     "start_time": "2022-05-27T23:12:31.824179Z"
    }
   },
   "outputs": [
    {
     "name": "stdout",
     "output_type": "stream",
     "text": [
      "Shape do dataset original Counter({'no': 31970, 'yes': 4198})\n",
      "Shape do dataset após oversampling Counter({'no': 4198, 'yes': 4198})\n"
     ]
    }
   ],
   "source": [
    "from imblearn.under_sampling import RandomUnderSampler\n",
    "from collections import Counter\n",
    "\n",
    "print('Shape do dataset original', Counter(y_train))\n",
    "\n",
    "rus = RandomUnderSampler(random_state=42)\n",
    "X_res, y_res = rus.fit_resample(X_train, y_train)\n",
    "\n",
    "print('Shape do dataset após oversampling', Counter(y_res))"
   ]
  },
  {
   "cell_type": "markdown",
   "id": "b5f89b94",
   "metadata": {},
   "source": [
    "[imblearn.under_sampling.TomekLinks](https://imbalanced-learn.org/stable/references/generated/imblearn.under_sampling.TomekLinks.html)  \n",
    "O algoritmo Tomek Link encontra pontos próximos de classes diferentes e elimina aqueles da classe majoritária."
   ]
  },
  {
   "cell_type": "code",
   "execution_count": 39,
   "id": "2ba1b6e9",
   "metadata": {
    "ExecuteTime": {
     "end_time": "2022-05-27T23:14:04.034096Z",
     "start_time": "2022-05-27T23:14:03.411191Z"
    }
   },
   "outputs": [
    {
     "name": "stdout",
     "output_type": "stream",
     "text": [
      "Shape do dataset original Counter({'no': 31970, 'yes': 4198})\n",
      "Shape do dataset após oversampling Counter({'no': 30501, 'yes': 4198})\n"
     ]
    }
   ],
   "source": [
    "from imblearn.under_sampling import TomekLinks\n",
    "from collections import Counter\n",
    "\n",
    "print('Shape do dataset original', Counter(y_train))\n",
    "\n",
    "tl = TomekLinks()\n",
    "X_res, y_res = tl.fit_resample(X_train, y_train)\n",
    "\n",
    "print('Shape do dataset após oversampling', Counter(y_res))"
   ]
  },
  {
   "cell_type": "markdown",
   "id": "d1319145",
   "metadata": {},
   "source": [
    "### 3) Up + Downsampling"
   ]
  },
  {
   "cell_type": "markdown",
   "id": "809dc5aa",
   "metadata": {},
   "source": [
    "[imblearn.combine.SMOTEENN](https://imbalanced-learn.org/stable/references/generated/imblearn.combine.SMOTEENN.html)  \n",
    "A técnica de Over-sampling com SMOTE e limpeza usando Edited Nearest Neighbor (ENN), como o próprio nome já traduz, faz uso do SMOTE para aumentar as amostras da classe minoritária. O ENN remove as amostras as quais possuem labels diferentes da classe majoritária dos k vizinhos mais próximos."
   ]
  },
  {
   "cell_type": "code",
   "execution_count": 41,
   "id": "ab83a3e2",
   "metadata": {
    "ExecuteTime": {
     "end_time": "2022-05-27T23:17:35.512593Z",
     "start_time": "2022-05-27T23:17:32.815748Z"
    }
   },
   "outputs": [
    {
     "name": "stdout",
     "output_type": "stream",
     "text": [
      "Shape do dataset original Counter({'no': 31970, 'yes': 4198})\n",
      "Shape do dataset após oversampling Counter({'yes': 27167, 'no': 22220})\n"
     ]
    }
   ],
   "source": [
    "from imblearn.combine import SMOTEENN\n",
    "from collections import Counter\n",
    "\n",
    "print('Shape do dataset original', Counter(y_train))\n",
    "\n",
    "smn = SMOTEENN(random_state=42)\n",
    "X_res, y_res = smn.fit_resample(X_train, y_train)\n",
    "\n",
    "print('Shape do dataset após oversampling', Counter(y_res))"
   ]
  },
  {
   "cell_type": "code",
   "execution_count": null,
   "id": "e978c27d",
   "metadata": {
    "ExecuteTime": {
     "end_time": "2022-05-27T23:16:53.846371Z",
     "start_time": "2022-05-27T23:16:51.729000Z"
    }
   },
   "outputs": [],
   "source": []
  },
  {
   "cell_type": "markdown",
   "id": "7c330f55",
   "metadata": {
    "ExecuteTime": {
     "end_time": "2022-05-27T23:17:54.747831Z",
     "start_time": "2022-05-27T23:17:54.726825Z"
    }
   },
   "source": [
    "Voltar ao nosso modelo"
   ]
  },
  {
   "cell_type": "code",
   "execution_count": null,
   "id": "1da3dada",
   "metadata": {
    "ExecuteTime": {
     "end_time": "2022-05-27T23:18:55.484996Z",
     "start_time": "2022-05-27T23:18:54.759663Z"
    }
   },
   "outputs": [],
   "source": [
    "# Escolher um modelo. Modelo supervisionado - classificação\n",
    "\n",
    "\n",
    "\n",
    "# Treina o modelo\n"
   ]
  },
  {
   "cell_type": "code",
   "execution_count": null,
   "id": "adb4a595",
   "metadata": {
    "ExecuteTime": {
     "end_time": "2022-05-27T23:19:19.798477Z",
     "start_time": "2022-05-27T23:19:19.757589Z"
    }
   },
   "outputs": [],
   "source": [
    "# Avalia o modelo - vale a pena predizer os dados de treino para ver comportamento (overfitting).....\n",
    "\n"
   ]
  },
  {
   "cell_type": "code",
   "execution_count": null,
   "id": "46cd13ed",
   "metadata": {
    "ExecuteTime": {
     "end_time": "2022-05-27T23:20:03.126288Z",
     "start_time": "2022-05-27T23:19:58.774339Z"
    }
   },
   "outputs": [],
   "source": []
  },
  {
   "cell_type": "markdown",
   "id": "b39e545d",
   "metadata": {},
   "source": [
    "## Mini tarefa\n",
    "\n",
    "Usando o mesmo dataset da aula (bank-full.csv), obtenha a acurácia de um modelo de regressão logística, com penalidade do tipo l2. Utilize a técnica de SMOTEENN de Up + Downsampling.\n",
    "Envie o valor encontrado no [forms](https://forms.gle/fdLMkp3GH1YwAy3FA)."
   ]
  },
  {
   "cell_type": "code",
   "execution_count": null,
   "id": "f426fc15",
   "metadata": {
    "ExecuteTime": {
     "end_time": "2022-05-27T23:23:30.948262Z",
     "start_time": "2022-05-27T23:23:29.465881Z"
    }
   },
   "outputs": [],
   "source": []
  },
  {
   "cell_type": "code",
   "execution_count": null,
   "id": "7b9babea",
   "metadata": {},
   "outputs": [],
   "source": []
  }
 ],
 "metadata": {
  "kernelspec": {
   "display_name": "Python 3 (ipykernel)",
   "language": "python",
   "name": "python3"
  },
  "language_info": {
   "codemirror_mode": {
    "name": "ipython",
    "version": 3
   },
   "file_extension": ".py",
   "mimetype": "text/x-python",
   "name": "python",
   "nbconvert_exporter": "python",
   "pygments_lexer": "ipython3",
   "version": "3.10.9"
  },
  "varInspector": {
   "cols": {
    "lenName": 16,
    "lenType": 16,
    "lenVar": 40
   },
   "kernels_config": {
    "python": {
     "delete_cmd_postfix": "",
     "delete_cmd_prefix": "del ",
     "library": "var_list.py",
     "varRefreshCmd": "print(var_dic_list())"
    },
    "r": {
     "delete_cmd_postfix": ") ",
     "delete_cmd_prefix": "rm(",
     "library": "var_list.r",
     "varRefreshCmd": "cat(var_dic_list()) "
    }
   },
   "types_to_exclude": [
    "module",
    "function",
    "builtin_function_or_method",
    "instance",
    "_Feature"
   ],
   "window_display": false
  }
 },
 "nbformat": 4,
 "nbformat_minor": 5
}
