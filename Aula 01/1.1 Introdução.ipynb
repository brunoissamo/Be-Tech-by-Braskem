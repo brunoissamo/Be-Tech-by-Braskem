{
 "cells": [
  {
   "cell_type": "markdown",
   "metadata": {},
   "source": [
    "# Aula 1 - Informações do curso"
   ]
  },
  {
   "cell_type": "markdown",
   "metadata": {},
   "source": [
    "Machine Learning II \n",
    "- Início: 25/09\n",
    "- Fim: 16/10\n",
    "\n",
    "google docs:  https://drive.google.com/drive/folders/1ksy45U7LJObPo-aksWYHfmm20ZjgOuRB  \n",
    "linkedin: Bruno Issamo"
   ]
  },
  {
   "cell_type": "markdown",
   "metadata": {},
   "source": [
    "## Cronograma\n",
    "25/09 - Aula 1 - Introdução e balanceamento de dados  \n",
    "27/09 - Aula 2 -  SVM (Support Vector Machine)  \n",
    "29/09 - Aula 3 - Métodos ensemble  \n",
    "02/10 - Aula 4 - Projetos - Supervisionados   \n",
    "04/10 - Aula 5 - Aprendizagem não supervisionada e k-means  \n",
    "06/10 - Aula 6 - DBSCAN  \n",
    "09/10 - Aula 7 - Agglomerative Clustering  \n",
    "11/10 - Aula 8 - Projeto - Não supervisionados  \n",
    "16/10 - Aula 9 - Apresentação do projeto e Avaliação por rubrica"
   ]
  },
  {
   "cell_type": "markdown",
   "metadata": {},
   "source": [
    "## PROJETOS\n",
    "\n",
    "### Projeto - Modelos supervisionados\n",
    " Neste módulo, daremos continuidade ao projeto desenvolvido no módulo anterior, mas agora com mais algumas ferramentas. Os passos continuam o mesmo:\n",
    "\n",
    "1. Utilizar o mesmo dataset do projeto anterior\n",
    "\n",
    "2. Utilizar todas os modelos aprendidos neste módulo (SVM, AdaBoost e XGBoost), a fim de comparar seus resultados\n",
    "\n",
    "3. Fazer a otimização dos hiperparâmetros, utilizando a metodologia da preferência do grupo\n",
    "\n",
    "5. Fazer a discussão de se o modelo está bom o suficiente para ser aplicado em produção\n",
    "\n",
    "A avaliação será feita em uma apresentação (02/10), com o grupo apresentando e discutindo a metodologia de tratamento dos dados e os resultados obtidos. \n"
   ]
  },
  {
   "cell_type": "markdown",
   "metadata": {},
   "source": [
    "### Projeto - Modelos não supervisionados\n",
    " Para os modelos com aprendizado não supervisionado, conduziremos um estudo de caso para praticar a análise dos resultados de um projeto de machine learning. Para isso, você deverá se reunir com seu grupo e seguir o passo a passo abaixo.\n",
    "\n",
    "1. Escolher um Dataset com pelo menos 1000 linhas e que não possua variável target, valide com o professor se o dataset escolhido é válido\n",
    "\n",
    "2. Utilizar todos os modelos aprendidos neste módulo K-means, DBSCAN e Agglomerative Clustering (apenas uma das abordagens) a fim de comparar os resultados\n",
    "\n",
    "3. Fazer a otimização dos hiperparâmetros, utilizando a metodologia da preferência do grupo\n",
    "\n",
    "4. Fazer a discussão de se o modelo está bom o suficiente para ser aplicado em produção\n",
    "\n",
    "A avaliação será feita em uma apresentação (11/10), com o grupo apresentando e discutindo a metodologia de tratamento dos dados e os resultados obtidos.\n"
   ]
  },
  {
   "cell_type": "markdown",
   "metadata": {},
   "source": [
    "## Dinâmica de aula\n",
    "1) Conceito\n",
    "2) Na prática\n",
    "3) Exercício de aula\n",
    "4) Mini tarefa"
   ]
  },
  {
   "cell_type": "markdown",
   "metadata": {},
   "source": [
    "# Apresentação"
   ]
  },
  {
   "cell_type": "markdown",
   "metadata": {},
   "source": [
    "- Nome\n",
    "- De onde fala?\n",
    "- Por que se interessou por Data Science?"
   ]
  },
  {
   "cell_type": "markdown",
   "metadata": {},
   "source": [
    "### Revisão do módulo passado"
   ]
  },
  {
   "cell_type": "markdown",
   "metadata": {},
   "source": [
    "O que vocês se recordam do módulo passado?"
   ]
  },
  {
   "cell_type": "markdown",
   "metadata": {},
   "source": [
    "- Dificuldade na aplicação, apesar de saber a teoria. Limpeza de dados (EDA)\n",
    "- Quando usar cada modelo? Baseline de desempenho\n",
    "- Excesso de técnicas apresentadas\n",
    "- Uso de menos datasets\n",
    "- Confusão entre etapas de modelagem "
   ]
  },
  {
   "cell_type": "markdown",
   "metadata": {},
   "source": [
    "- Etapas de modelagem"
   ]
  },
  {
   "cell_type": "markdown",
   "metadata": {},
   "source": [
    "- Identificar padrão, por meio de algoritmos, através dos dados, para cumprir algum objetivo específico\n",
    "- Supervisionados (target/resposta conhecido) e não supervisionados (sem a resposta)\n",
    "- Teste (validação) e treino (Divisão do dataset para treinar e testar) - objetiva verificar generalização\n",
    "- Classificação (classes) e Regressão (contínuo)\n",
    "- Regressão linear, regressão logística, árvore de decisão (classificação e regressão), Random Forest, KNN\n",
    "- Validação cruzada"
   ]
  }
 ],
 "metadata": {
  "language_info": {
   "name": "python"
  },
  "orig_nbformat": 4
 },
 "nbformat": 4,
 "nbformat_minor": 2
}
